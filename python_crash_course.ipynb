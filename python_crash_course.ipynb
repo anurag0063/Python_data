{
  "nbformat": 4,
  "nbformat_minor": 0,
  "metadata": {
    "colab": {
      "name": "python_crash_course.ipynb",
      "provenance": [],
      "collapsed_sections": [],
      "authorship_tag": "ABX9TyOrEBAnW8V73S70zYmugdtN",
      "include_colab_link": true
    },
    "kernelspec": {
      "name": "python3",
      "display_name": "Python 3"
    }
  },
  "cells": [
    {
      "cell_type": "markdown",
      "metadata": {
        "id": "view-in-github",
        "colab_type": "text"
      },
      "source": [
        "<a href=\"https://colab.research.google.com/github/anurag0063/Python_data/blob/master/python_crash_course.ipynb\" target=\"_parent\"><img src=\"https://colab.research.google.com/assets/colab-badge.svg\" alt=\"Open In Colab\"/></a>"
      ]
    },
    {
      "cell_type": "markdown",
      "metadata": {
        "id": "XVfnbxj9V9xN",
        "colab_type": "text"
      },
      "source": [
        "# Some differences when compared to javascript"
      ]
    },
    {
      "cell_type": "markdown",
      "metadata": {
        "id": "GwnHPLi8VN-B",
        "colab_type": "text"
      },
      "source": [
        "to the power operator (2 * 2 * 2) or 2^3"
      ]
    },
    {
      "cell_type": "code",
      "metadata": {
        "id": "fSmqIr27StM1",
        "colab_type": "code",
        "colab": {
          "base_uri": "https://localhost:8080/",
          "height": 34
        },
        "outputId": "68cc8764-29f1-4e65-b3a1-060517311f0f"
      },
      "source": [
        "2 ** 3"
      ],
      "execution_count": 21,
      "outputs": [
        {
          "output_type": "execute_result",
          "data": {
            "text/plain": [
              "8"
            ]
          },
          "metadata": {
            "tags": []
          },
          "execution_count": 21
        }
      ]
    },
    {
      "cell_type": "markdown",
      "metadata": {
        "id": "xtc1cOTCVWSJ",
        "colab_type": "text"
      },
      "source": [
        "Creating string literal. Use format method to assign values to the placeholder variables used in the string, for reference look at the cell 7"
      ]
    },
    {
      "cell_type": "code",
      "metadata": {
        "id": "dWJ9XwPzSzFO",
        "colab_type": "code",
        "colab": {}
      },
      "source": [
        "age = 28\n",
        "name = \"Anurag Singh\""
      ],
      "execution_count": 4,
      "outputs": []
    },
    {
      "cell_type": "code",
      "metadata": {
        "id": "CiOT4QBES6mJ",
        "colab_type": "code",
        "colab": {
          "base_uri": "https://localhost:8080/",
          "height": 34
        },
        "outputId": "4b91fe43-60c7-4390-81b7-d32f947cafb6"
      },
      "source": [
        "print('{pname} is {page} years old today after {page} years.'.format(page = age, pname = name))"
      ],
      "execution_count": 7,
      "outputs": [
        {
          "output_type": "stream",
          "text": [
            "Anurag Singh is 28 years old today after 28 years.\n"
          ],
          "name": "stdout"
        }
      ]
    },
    {
      "cell_type": "markdown",
      "metadata": {
        "id": "9SVS8zXvV0dw",
        "colab_type": "text"
      },
      "source": [
        "**List** is same as **array** in javascript."
      ]
    },
    {
      "cell_type": "code",
      "metadata": {
        "id": "aGnJ6SwkTMBQ",
        "colab_type": "code",
        "colab": {}
      },
      "source": [
        "mylist = [1,2,3,[4, 5, [\"target\"]]]\n"
      ],
      "execution_count": 8,
      "outputs": []
    },
    {
      "cell_type": "code",
      "metadata": {
        "id": "snylDLUPToKC",
        "colab_type": "code",
        "colab": {
          "base_uri": "https://localhost:8080/",
          "height": 34
        },
        "outputId": "15019beb-77f7-4423-f428-c9fd78cf9738"
      },
      "source": [
        "print(mylist[3][2][0])"
      ],
      "execution_count": 11,
      "outputs": [
        {
          "output_type": "stream",
          "text": [
            "target\n"
          ],
          "name": "stdout"
        }
      ]
    },
    {
      "cell_type": "code",
      "metadata": {
        "id": "oNwXgKYcTt5O",
        "colab_type": "code",
        "colab": {}
      },
      "source": [
        "new_list = [1,2,3,4,5,6,7,8,9,10]"
      ],
      "execution_count": 12,
      "outputs": []
    },
    {
      "cell_type": "code",
      "metadata": {
        "id": "rKPQtEEFUJcA",
        "colab_type": "code",
        "colab": {
          "base_uri": "https://localhost:8080/",
          "height": 34
        },
        "outputId": "0a6a2209-e3c9-472f-bc5e-39e5f2cc0896"
      },
      "source": [
        "print(new_list[0:4])"
      ],
      "execution_count": 13,
      "outputs": [
        {
          "output_type": "stream",
          "text": [
            "[1, 2, 3, 4]\n"
          ],
          "name": "stdout"
        }
      ]
    },
    {
      "cell_type": "code",
      "metadata": {
        "id": "nZLckgy3UP3t",
        "colab_type": "code",
        "colab": {
          "base_uri": "https://localhost:8080/",
          "height": 34
        },
        "outputId": "569902a8-9fbe-4122-eb8c-065306b1d0b2"
      },
      "source": [
        "new_list[:4]"
      ],
      "execution_count": 14,
      "outputs": [
        {
          "output_type": "execute_result",
          "data": {
            "text/plain": [
              "[1, 2, 3, 4]"
            ]
          },
          "metadata": {
            "tags": []
          },
          "execution_count": 14
        }
      ]
    },
    {
      "cell_type": "code",
      "metadata": {
        "id": "2uYSkwfGUYJZ",
        "colab_type": "code",
        "colab": {
          "base_uri": "https://localhost:8080/",
          "height": 34
        },
        "outputId": "c0426ea0-83b2-4494-92ce-cf44947da248"
      },
      "source": [
        "new_list[4:8]"
      ],
      "execution_count": 18,
      "outputs": [
        {
          "output_type": "execute_result",
          "data": {
            "text/plain": [
              "[5, 6, 7, 8]"
            ]
          },
          "metadata": {
            "tags": []
          },
          "execution_count": 18
        }
      ]
    },
    {
      "cell_type": "code",
      "metadata": {
        "id": "7Jooqlk3Ud-z",
        "colab_type": "code",
        "colab": {}
      },
      "source": [
        ""
      ],
      "execution_count": null,
      "outputs": []
    }
  ]
}